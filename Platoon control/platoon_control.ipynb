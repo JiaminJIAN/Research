{
  "nbformat": 4,
  "nbformat_minor": 0,
  "metadata": {
    "colab": {
      "name": "platoon control.ipynb",
      "provenance": [],
      "collapsed_sections": [],
      "authorship_tag": "ABX9TyNjchBMnSUz2aB6vl+CMm6R",
      "include_colab_link": true
    },
    "kernelspec": {
      "name": "python3",
      "display_name": "Python 3"
    }
  },
  "cells": [
    {
      "cell_type": "markdown",
      "metadata": {
        "id": "view-in-github",
        "colab_type": "text"
      },
      "source": [
        "<a href=\"https://colab.research.google.com/github/JiaminJIAN/Research/blob/master/Platoon%20control/platoon_control.ipynb\" target=\"_parent\"><img src=\"https://colab.research.google.com/assets/colab-badge.svg\" alt=\"Open In Colab\"/></a>"
      ]
    },
    {
      "cell_type": "markdown",
      "metadata": {
        "id": "ih-xvuJC5PKi",
        "colab_type": "text"
      },
      "source": [
        "## **Platoon control**"
      ]
    },
    {
      "cell_type": "markdown",
      "metadata": {
        "id": "-O0BdQBK5ebr",
        "colab_type": "text"
      },
      "source": [
        "### **Introduction**\n",
        "\n",
        "For $i = 0$, the state of the system governed by\n",
        "\n",
        "\\begin{cases}\n",
        "    d P_{0}(t) = V_{0}(t) \\, d t + \\sigma_{1} \\, d W_{1}(t) \\\\\n",
        "    d V_{0}(t) = u_{0}(t) \\, d t + \\sigma_{2} \\, d W_{2}(t)\n",
        "\\end{cases}\n",
        "\n",
        "where $W_{1}(t)$ and $W_{2}(t)$ are standard Brownian motions and they are independent of each other.\n",
        "\n",
        "Since we got the optimal control\n",
        "\n",
        "$$u_{0}^{*}(x, t) = - \\varphi (T - t) (x_{0,2} - \\nu),$$\n",
        "\n",
        "where \n",
        "\n",
        "$$\\varphi(t) = \\frac{e^{2t} - 1}{e^{2t} + 1}.$$\n",
        "\n",
        "By the Euler method, we devide the time interval $[0, T]$ into $N$ segments and set $h = \\frac{T}{N}$, then we have\n",
        "\n",
        "\\begin{cases}\n",
        "    P_{0}((i+1)h) = P_{0}(ih) + V_{0}(ih) h + \\sigma_{1} \\sqrt{h} Z_{i} \\\\\n",
        "    V_{0}((i+1)h) = V_{0}(ih) - \\varphi(T - ih) (V_{0}(ih) - \\nu) h + \\sigma_{2} \\sqrt{h} X_{i}\n",
        "\\end{cases}\n",
        "\n",
        "where $i = 0, 1, \\dots, N-1$ and ${X}_{i}, Z_{i}$ are independent standard normal variables."
      ]
    },
    {
      "cell_type": "code",
      "metadata": {
        "id": "pww-rsLc5Lsv",
        "colab_type": "code",
        "colab": {}
      },
      "source": [
        "import numpy as np\n",
        "import matplotlib.pyplot as plt\n",
        "from pylab import plt"
      ],
      "execution_count": 1,
      "outputs": []
    },
    {
      "cell_type": "code",
      "metadata": {
        "id": "je5HWJTb-sYP",
        "colab_type": "code",
        "colab": {}
      },
      "source": [
        "## Parameters\n",
        "\n",
        "P0_0 = 1\n",
        "V0_0 = 20\n",
        "nu = 70\n",
        "sigma_1 = 1\n",
        "sigma_2 = 1\n",
        "T = 3\n",
        "N = 100"
      ],
      "execution_count": 2,
      "outputs": []
    },
    {
      "cell_type": "code",
      "metadata": {
        "id": "_2aIA_NvAEzj",
        "colab_type": "code",
        "colab": {}
      },
      "source": [
        "def varphi(t):\n",
        "  value = (np.exp(2*t) - 1) / (np.exp(2*t) + 1)\n",
        "  return value"
      ],
      "execution_count": 3,
      "outputs": []
    },
    {
      "cell_type": "code",
      "metadata": {
        "id": "WU9DnPx3_LPu",
        "colab_type": "code",
        "colab": {}
      },
      "source": [
        "def path_n0(P0_0, V0_0, nu, sigma_1, sigma_2, T, N):\n",
        "    t = np.linspace(0, T, num = N+1)\n",
        "    h = T/N  \n",
        "    P0 = P0_0 + np.zeros(N+1)  \n",
        "    V0 = V0_0 + np.zeros(N+1)            \n",
        "    for i in range(N):\n",
        "        V0[i+1] = V0[i] - varphi(T-i*h) * (V0[i] - nu) * h + sigma_2 * np.sqrt(h) * np.random.normal()\n",
        "        P0[i+1] = P0[i] + V0[i] * h + sigma_1 * np.sqrt(h) * np.random.normal()\n",
        "    return t, V0, P0"
      ],
      "execution_count": 4,
      "outputs": []
    },
    {
      "cell_type": "code",
      "metadata": {
        "id": "ZUpte_TtDmDH",
        "colab_type": "code",
        "colab": {
          "base_uri": "https://localhost:8080/",
          "height": 302
        },
        "outputId": "5b90c24d-17c0-479b-f89a-8d9965565176"
      },
      "source": [
        "[t, V0, P0] = path_n0(P0_0, V0_0, nu, sigma_1, sigma_2, T, N)\n",
        "plt.plot(t,P0)"
      ],
      "execution_count": 5,
      "outputs": [
        {
          "output_type": "execute_result",
          "data": {
            "text/plain": [
              "[<matplotlib.lines.Line2D at 0x7f12a02b5b00>]"
            ]
          },
          "metadata": {
            "tags": []
          },
          "execution_count": 5
        },
        {
          "output_type": "display_data",
          "data": {
            "image/png": "[encoded data removed]",
            "text/plain": [
              "<Figure size 432x288 with 1 Axes>"
            ]
          },
          "metadata": {
            "tags": [],
            "needs_background": "light"
          }
        }
      ]
    },
    {
      "cell_type": "code",
      "metadata": {
        "id": "YztLzM5IEGkM",
        "colab_type": "code",
        "colab": {
          "base_uri": "https://localhost:8080/",
          "height": 302
        },
        "outputId": "b78cb82d-8aee-49ab-fe40-0452093b9027"
      },
      "source": [
        "plt.plot(t,V0)"
      ],
      "execution_count": 6,
      "outputs": [
        {
          "output_type": "execute_result",
          "data": {
            "text/plain": [
              "[<matplotlib.lines.Line2D at 0x7f129fe11ba8>]"
            ]
          },
          "metadata": {
            "tags": []
          },
          "execution_count": 6
        },
        {
          "output_type": "display_data",
          "data": {
            "image/png": "[encoded data removed]",
            "text/plain": [
              "<Figure size 432x288 with 1 Axes>"
            ]
          },
          "metadata": {
            "tags": [],
            "needs_background": "light"
          }
        }
      ]
    },
    {
      "cell_type": "code",
      "metadata": {
        "id": "6280kQ3IIf3w",
        "colab_type": "code",
        "colab": {
          "base_uri": "https://localhost:8080/",
          "height": 302
        },
        "outputId": "75ef5a6b-ee59-4d40-c96b-bb495174016c"
      },
      "source": [
        "u = - varphi(T-t) * (V0 - nu)\n",
        "plt.plot(t,u)"
      ],
      "execution_count": 7,
      "outputs": [
        {
          "output_type": "execute_result",
          "data": {
            "text/plain": [
              "[<matplotlib.lines.Line2D at 0x7f129fe06320>]"
            ]
          },
          "metadata": {
            "tags": []
          },
          "execution_count": 7
        },
        {
          "output_type": "display_data",
          "data": {
            "image/png": "[encoded data removed]",
            "text/plain": [
              "<Figure size 432x288 with 1 Axes>"
            ]
          },
          "metadata": {
            "tags": [],
            "needs_background": "light"
          }
        }
      ]
    },
    {
      "cell_type": "markdown",
      "metadata": {
        "id": "PMVZvy0ZKhu4",
        "colab_type": "text"
      },
      "source": [
        "When $N=1$, there are two vehicles in the platoon system. We suppose the optimal strategy of the second vehicle is \n",
        "\n",
        "$$u_{1}^{*} (x, t) = - \\varphi (T - t) (x_{1,2} - x_{0,2})$$\n",
        "\n",
        "Similarly, by the Euler method, we devide the time interval $[0, T]$ into $N$ segments and set $h = \\frac{T}{N}$, then we have\n",
        "\n",
        "\\begin{cases}\n",
        "    P_{1}((i+1)h) = P_{1}(ih) + V_{1}(ih) h + \\sigma_{1} \\sqrt{h} Z_{i} \\\\\n",
        "    V_{1}((i+1)h) = V_{1}(ih) - \\varphi(T - ih) (V_{1}(ih) - V_{0}(ih)) h + \\sigma_{2} \\sqrt{h} X_{i}\n",
        "\\end{cases}\n",
        "\n",
        "where $i = 0, 1, \\dots, N-1$ and ${X}_{i}, Z_{i}$ are independent standard normal variables."
      ]
    },
    {
      "cell_type": "code",
      "metadata": {
        "id": "Eu2tr-yTMAaH",
        "colab_type": "code",
        "colab": {}
      },
      "source": [
        "def path_n1(P1_0, V1_0, P0_0, V0_0, nu, sigma_1, sigma_2, T, N):\n",
        "    t = np.linspace(0, T, num = N+1)\n",
        "    h = T/N  \n",
        "    P1 = P1_0 + np.zeros(N+1)  \n",
        "    V1 = V1_0 + np.zeros(N+1)\n",
        "    [t, V0, P0] = path_n0(P0_0, V0_0, nu, sigma_1, sigma_2, T, N)            \n",
        "    for i in range(N):\n",
        "        V1[i+1] = V1[i] - varphi(T-i*h) * (V1[i] - V0[i]) * h + sigma_2 * np.sqrt(h) * np.random.normal()\n",
        "        P1[i+1] = P1[i] + V1[i] * h + sigma_1 * np.sqrt(h) * np.random.normal()\n",
        "    return t, V1, P1"
      ],
      "execution_count": 8,
      "outputs": []
    },
    {
      "cell_type": "code",
      "metadata": {
        "id": "QwS6M65ZNGJv",
        "colab_type": "code",
        "colab": {}
      },
      "source": [
        "## Parameters\n",
        "\n",
        "P1_0 = 0\n",
        "V1_0 = 20"
      ],
      "execution_count": 9,
      "outputs": []
    },
    {
      "cell_type": "code",
      "metadata": {
        "id": "UnBXrZGZNVs7",
        "colab_type": "code",
        "colab": {
          "base_uri": "https://localhost:8080/",
          "height": 302
        },
        "outputId": "0c21246f-5176-45a9-eedb-274af29c5a40"
      },
      "source": [
        "[t, V1, P1] = path_n1(P1_0, V1_0, P0_0, V0_0, nu, sigma_1, sigma_2, T, N)\n",
        "plt.plot(t,P1)\n",
        "plt.plot(t,P0)"
      ],
      "execution_count": 10,
      "outputs": [
        {
          "output_type": "execute_result",
          "data": {
            "text/plain": [
              "[<matplotlib.lines.Line2D at 0x7f129fd3e978>]"
            ]
          },
          "metadata": {
            "tags": []
          },
          "execution_count": 10
        },
        {
          "output_type": "display_data",
          "data": {
            "image/png": "[encoded data removed]",
            "text/plain": [
              "<Figure size 432x288 with 1 Axes>"
            ]
          },
          "metadata": {
            "tags": [],
            "needs_background": "light"
          }
        }
      ]
    },
    {
      "cell_type": "code",
      "metadata": {
        "id": "PcKtaSyjNgZl",
        "colab_type": "code",
        "colab": {
          "base_uri": "https://localhost:8080/",
          "height": 302
        },
        "outputId": "05607496-6359-4ac7-d5be-57b02c66f3cb"
      },
      "source": [
        "plt.plot(t,V1)"
      ],
      "execution_count": 11,
      "outputs": [
        {
          "output_type": "execute_result",
          "data": {
            "text/plain": [
              "[<matplotlib.lines.Line2D at 0x7f129fccf3c8>]"
            ]
          },
          "metadata": {
            "tags": []
          },
          "execution_count": 11
        },
        {
          "output_type": "display_data",
          "data": {
            "image/png": "[encoded data removed]",
            "text/plain": [
              "<Figure size 432x288 with 1 Axes>"
            ]
          },
          "metadata": {
            "tags": [],
            "needs_background": "light"
          }
        }
      ]
    },
    {
      "cell_type": "markdown",
      "metadata": {
        "id": "n47uTtZVOV34",
        "colab_type": "text"
      },
      "source": [
        ""
      ]
    },
    {
      "cell_type": "code",
      "metadata": {
        "id": "H3WVLycrOVLF",
        "colab_type": "code",
        "colab": {}
      },
      "source": [
        "def velocity_matrix(v, nu, sigma_1, sigma_2, T, N, M):\n",
        "    t = np.linspace(0, T, num = N+1)\n",
        "    h = T/N\n",
        "    V = np.zeros([M, N+1])\n",
        "    V[:,0] = v\n",
        "    for i in range(N):\n",
        "        V[0,i+1] = V[0,i] - varphi(T-i*h) * (V[0,i] - nu) * h + sigma_2 * np.sqrt(h) * np.random.normal()\n",
        "        for j in range(1, M):\n",
        "            V[j,i+1] = V[j,i] - varphi(T-i*h) * (V[j,i] - V[j-1,i]) * h + sigma_2 * np.sqrt(h) * np.random.normal()\n",
        "    return V"
      ],
      "execution_count": 12,
      "outputs": []
    },
    {
      "cell_type": "code",
      "metadata": {
        "id": "lCYwCxWFaApw",
        "colab_type": "code",
        "colab": {
          "base_uri": "https://localhost:8080/",
          "height": 253
        },
        "outputId": "47d665f0-19bd-4fd3-f85d-f4b7e99ee4fd"
      },
      "source": [
        "## Parameters\n",
        "\n",
        "M = 10\n",
        "v = np.zeros(M, order = 'F') + 20\n",
        "\n",
        "V = velocity_matrix(v, nu, sigma_1, sigma_2, T, N, M)\n",
        "\n",
        "print(V)"
      ],
      "execution_count": 13,
      "outputs": [
        {
          "output_type": "stream",
          "text": [
            "[[20.         21.44430214 22.7980866  ... 65.75265007 65.82837619\n",
            "  65.67592635]\n",
            " [20.         20.09285825 20.30624419 ... 55.38572464 55.58868604\n",
            "  55.34215573]\n",
            " [20.         20.01717682 20.19462068 ... 41.05306001 41.00526475\n",
            "  41.14392199]\n",
            " ...\n",
            " [20.         19.819536   19.89725797 ... 19.61258609 19.36246601\n",
            "  19.38152804]\n",
            " [20.         19.86781669 19.8821631  ... 19.1522844  19.38366476\n",
            "  19.23612666]\n",
            " [20.         20.23345862 20.22564925 ... 21.24675116 21.19415925\n",
            "  21.34904717]]\n"
          ],
          "name": "stdout"
        }
      ]
    },
    {
      "cell_type": "code",
      "metadata": {
        "id": "jLKqyeJNcxPC",
        "colab_type": "code",
        "colab": {}
      },
      "source": [
        "def position_matrix(p, v, nu, sigma_1, sigma_2, T, N, M):\n",
        "    t = np.linspace(0, T, num = N+1)\n",
        "    h = T/N\n",
        "    V = velocity_matrix(v, nu, sigma_1, sigma_2, T, N, M)\n",
        "    P = np.zeros([M, N+1])\n",
        "    P[:,0] =p\n",
        "    for j in range(M):\n",
        "        for i in range(N):\n",
        "            P[j,i+1] = P[j,i] + V[j,i] * h + sigma_1 * np.sqrt(h) * np.random.normal()\n",
        "    return P"
      ],
      "execution_count": 14,
      "outputs": []
    },
    {
      "cell_type": "code",
      "metadata": {
        "id": "BZobLl0E69i_",
        "colab_type": "code",
        "colab": {
          "base_uri": "https://localhost:8080/",
          "height": 253
        },
        "outputId": "6cebe74c-75bf-4671-e7ea-35d7b16162cf"
      },
      "source": [
        "## parameters\n",
        "\n",
        "p = np.arange(1, 0, -0.1)\n",
        "P = position_matrix(p, v, nu, sigma_1, sigma_2, T, N, M)\n",
        "print(P)"
      ],
      "execution_count": 15,
      "outputs": [
        {
          "output_type": "stream",
          "text": [
            "[[1.00000000e+00 1.73672136e+00 2.37770144e+00 ... 1.53614352e+02\n",
            "  1.55632705e+02 1.57611221e+02]\n",
            " [9.00000000e-01 1.47122219e+00 1.96142655e+00 ... 1.15938781e+02\n",
            "  1.17569569e+02 1.19224510e+02]\n",
            " [8.00000000e-01 1.32284334e+00 1.81772285e+00 ... 8.67722426e+01\n",
            "  8.81824715e+01 8.93908480e+01]\n",
            " ...\n",
            " [3.00000000e-01 8.97290979e-01 1.46944077e+00 ... 5.86063140e+01\n",
            "  5.91661529e+01 5.99678077e+01]\n",
            " [2.00000000e-01 8.09795069e-01 1.36238387e+00 ... 5.94278314e+01\n",
            "  5.98815236e+01 6.01668408e+01]\n",
            " [1.00000000e-01 5.24959965e-01 1.47407383e+00 ... 6.26643446e+01\n",
            "  6.30632960e+01 6.39931475e+01]]\n"
          ],
          "name": "stdout"
        }
      ]
    },
    {
      "cell_type": "code",
      "metadata": {
        "id": "QrpDGB9U_pLC",
        "colab_type": "code",
        "colab": {
          "base_uri": "https://localhost:8080/",
          "height": 286
        },
        "outputId": "57f66e82-cc6f-4ec3-eaad-c43ed2284449"
      },
      "source": [
        "for i in range(10): \n",
        "    plt.plot(t,P[i])"
      ],
      "execution_count": 16,
      "outputs": [
        {
          "output_type": "display_data",
          "data": {
            "image/png": "[encoded data removed]",
            "text/plain": [
              "<Figure size 432x288 with 1 Axes>"
            ]
          },
          "metadata": {
            "tags": [],
            "needs_background": "light"
          }
        }
      ]
    }
  ]
}