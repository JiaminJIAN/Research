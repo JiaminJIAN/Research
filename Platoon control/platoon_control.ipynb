{
  "nbformat": 4,
  "nbformat_minor": 0,
  "metadata": {
    "colab": {
      "name": "platoon control.ipynb",
      "provenance": [],
      "collapsed_sections": [],
      "authorship_tag": "ABX9TyMDoRXTlaP44jdeSQof/x4h",
      "include_colab_link": true
    },
    "kernelspec": {
      "name": "python3",
      "display_name": "Python 3"
    }
  },
  "cells": [
    {
      "cell_type": "markdown",
      "metadata": {
        "id": "view-in-github",
        "colab_type": "text"
      },
      "source": [
        "<a href=\"https://colab.research.google.com/github/JiaminJIAN/Research/blob/master/Platoon%20control/platoon_control.ipynb\" target=\"_parent\"><img src=\"https://colab.research.google.com/assets/colab-badge.svg\" alt=\"Open In Colab\"/></a>"
      ]
    },
    {
      "cell_type": "markdown",
      "metadata": {
        "id": "ih-xvuJC5PKi",
        "colab_type": "text"
      },
      "source": [
        "## **Platoon control**"
      ]
    },
    {
      "cell_type": "markdown",
      "metadata": {
        "id": "-O0BdQBK5ebr",
        "colab_type": "text"
      },
      "source": [
        "### **Introduction**\n",
        "\n",
        "For $i = 0$, the state of the system governed by\n",
        "\n",
        "\\begin{cases}\n",
        "    d P_{0}(t) = V_{0}(t) \\, d t + \\sigma_{1} \\, d W_{1}(t) \\\\\n",
        "    d V_{0}(t) = u_{0}(t) \\, d t + \\sigma_{2} \\, d W_{2}(t)\n",
        "\\end{cases}\n",
        "\n",
        "where $W_{1}(t)$ and $W_{2}(t)$ are standard Brownian motions and they are independent of each other.\n",
        "\n",
        "Since we got the optimal control\n",
        "\n",
        "$$u_{0}^{*}(x, t) = - \\varphi (T - t) (x_{0,2} - \\nu),$$\n",
        "\n",
        "where \n",
        "\n",
        "$$\\varphi(t) = \\frac{e^{2t} - 1}{e^{2t} + 1}.$$\n",
        "\n",
        "By the Euler method, we devide the time interval $[0, T]$ into $N$ segments and set $h = \\frac{T}{N}$, then we have\n",
        "\n",
        "\\begin{cases}\n",
        "    P_{0}((i+1)h) = P_{0}(ih) + V_{0}(ih) h + \\sigma_{1} \\sqrt{h} Z_{i} \\\\\n",
        "    V_{0}((i+1)h) = V_{0}(ih) - \\varphi(T - ih) (V_{0}(ih) - \\nu) h + \\sigma_{2} \\sqrt{h} X_{i}\n",
        "\\end{cases}\n",
        "\n",
        "where $i = 0, 1, \\dots, N-1$ and ${X}_{i}, Z_{i}$ are independent standard normal variables."
      ]
    },
    {
      "cell_type": "code",
      "metadata": {
        "id": "pww-rsLc5Lsv",
        "colab_type": "code",
        "colab": {}
      },
      "source": [
        "import numpy as np\n",
        "import matplotlib.pyplot as plt\n",
        "from pylab import plt"
      ],
      "execution_count": 1,
      "outputs": []
    },
    {
      "cell_type": "code",
      "metadata": {
        "id": "je5HWJTb-sYP",
        "colab_type": "code",
        "colab": {}
      },
      "source": [
        "## Parameters\n",
        "\n",
        "P0_0 = 1\n",
        "V0_0 = 20\n",
        "nu = 70\n",
        "sigma_1 = 1\n",
        "sigma_2 = 1\n",
        "T = 1\n",
        "N = 10"
      ],
      "execution_count": 2,
      "outputs": []
    },
    {
      "cell_type": "code",
      "metadata": {
        "id": "_2aIA_NvAEzj",
        "colab_type": "code",
        "colab": {}
      },
      "source": [
        "def varphi(t):\n",
        "  value = (np.exp(2*t) - 1) / (np.exp(2*t) + 1)\n",
        "  return value"
      ],
      "execution_count": 3,
      "outputs": []
    },
    {
      "cell_type": "code",
      "metadata": {
        "id": "WU9DnPx3_LPu",
        "colab_type": "code",
        "colab": {}
      },
      "source": [
        "def path_n0(P0_0, V0_0, nu, sigma_1, sigma_2, T, N):\n",
        "    t = np.linspace(0, T, num = N+1)\n",
        "    h = T/N  \n",
        "    P0 = P0_0 + np.zeros(N+1)  \n",
        "    V0 = V0_0 + np.zeros(N+1)            \n",
        "    for i in range(N):\n",
        "        V0[i+1] = V0[i] - varphi(T-i*h) * (V0[i] - nu) * h + sigma_2 * np.sqrt(h) * np.random.normal()\n",
        "        P0[i+1] = P0[i] + V0[i] * h + sigma_1 * np.sqrt(h) * np.random.normal()\n",
        "    return t, V0, P0"
      ],
      "execution_count": 4,
      "outputs": []
    },
    {
      "cell_type": "code",
      "metadata": {
        "id": "ZUpte_TtDmDH",
        "colab_type": "code",
        "colab": {
          "base_uri": "https://localhost:8080/",
          "height": 302
        },
        "outputId": "b941b07a-5836-4a1f-f369-4b3c45af3688"
      },
      "source": [
        "[t, V0, P0] = path_n0(P0_0, V0_0, nu, sigma_1, sigma_2, T, N)\n",
        "plt.plot(t,P0)"
      ],
      "execution_count": 5,
      "outputs": [
        {
          "output_type": "execute_result",
          "data": {
            "text/plain": [
              "[<matplotlib.lines.Line2D at 0x7f614c8bca90>]"
            ]
          },
          "metadata": {
            "tags": []
          },
          "execution_count": 5
        },
        {
          "output_type": "display_data",
          "data": {
            "image/png": "[encoded data removed]",
            "text/plain": [
              "<Figure size 432x288 with 1 Axes>"
            ]
          },
          "metadata": {
            "tags": [],
            "needs_background": "light"
          }
        }
      ]
    },
    {
      "cell_type": "code",
      "metadata": {
        "id": "YztLzM5IEGkM",
        "colab_type": "code",
        "colab": {
          "base_uri": "https://localhost:8080/",
          "height": 302
        },
        "outputId": "63c77ab6-c139-428e-dbed-3cccb51b39a6"
      },
      "source": [
        "plt.plot(t,V0)"
      ],
      "execution_count": 6,
      "outputs": [
        {
          "output_type": "execute_result",
          "data": {
            "text/plain": [
              "[<matplotlib.lines.Line2D at 0x7f614c416668>]"
            ]
          },
          "metadata": {
            "tags": []
          },
          "execution_count": 6
        },
        {
          "output_type": "display_data",
          "data": {
            "image/png": "[encoded data removed]",
            "text/plain": [
              "<Figure size 432x288 with 1 Axes>"
            ]
          },
          "metadata": {
            "tags": [],
            "needs_background": "light"
          }
        }
      ]
    },
    {
      "cell_type": "code",
      "metadata": {
        "id": "6280kQ3IIf3w",
        "colab_type": "code",
        "colab": {
          "base_uri": "https://localhost:8080/",
          "height": 302
        },
        "outputId": "968f1db4-5fdf-409c-e23d-38ea112010a8"
      },
      "source": [
        "u = - varphi(T-t) * (V0 - nu)\n",
        "plt.plot(t,u)"
      ],
      "execution_count": 7,
      "outputs": [
        {
          "output_type": "execute_result",
          "data": {
            "text/plain": [
              "[<matplotlib.lines.Line2D at 0x7f614c3a8978>]"
            ]
          },
          "metadata": {
            "tags": []
          },
          "execution_count": 7
        },
        {
          "output_type": "display_data",
          "data": {
            "image/png": "[encoded data removed]",
            "text/plain": [
              "<Figure size 432x288 with 1 Axes>"
            ]
          },
          "metadata": {
            "tags": [],
            "needs_background": "light"
          }
        }
      ]
    },
    {
      "cell_type": "markdown",
      "metadata": {
        "id": "PMVZvy0ZKhu4",
        "colab_type": "text"
      },
      "source": [
        "When $N=1$, there are two vehicles in the platoon system. We suppose the optimal strategy of the second vehicle is \n",
        "\n",
        "$$u_{1}^{*} (x, t) = - \\varphi (T - t) (x_{1,2} - x_{0,2})$$\n",
        "\n",
        "Similarly, by the Euler method, we devide the time interval $[0, T]$ into $N$ segments and set $h = \\frac{T}{N}$, then we have\n",
        "\n",
        "\\begin{cases}\n",
        "    P_{1}((i+1)h) = P_{1}(ih) + V_{1}(ih) h + \\sigma_{1} \\sqrt{h} Z_{i} \\\\\n",
        "    V_{1}((i+1)h) = V_{1}(ih) - \\varphi(T - ih) (V_{1}(ih) - V_{0}(ih)) h + \\sigma_{2} \\sqrt{h} X_{i}\n",
        "\\end{cases}\n",
        "\n",
        "where $i = 0, 1, \\dots, N-1$ and ${X}_{i}, Z_{i}$ are independent standard normal variables."
      ]
    },
    {
      "cell_type": "code",
      "metadata": {
        "id": "Eu2tr-yTMAaH",
        "colab_type": "code",
        "colab": {}
      },
      "source": [
        "def path_n1(P1_0, V1_0, P0_0, V0_0, nu, sigma_1, sigma_2, T, N):\n",
        "    t = np.linspace(0, T, num = N+1)\n",
        "    h = T/N  \n",
        "    P1 = P1_0 + np.zeros(N+1)  \n",
        "    V1 = V1_0 + np.zeros(N+1)\n",
        "    [t, V0, P0] = path_n0(P0_0, V0_0, nu, sigma_1, sigma_2, T, N)            \n",
        "    for i in range(N):\n",
        "        V1[i+1] = V1[i] - varphi(T-i*h) * (V1[i] - V0[i]) * h + sigma_2 * np.sqrt(h) * np.random.normal()\n",
        "        P1[i+1] = P1[i] + V1[i] * h + sigma_1 * np.sqrt(h) * np.random.normal()\n",
        "    return t, V1, P1"
      ],
      "execution_count": 8,
      "outputs": []
    },
    {
      "cell_type": "code",
      "metadata": {
        "id": "QwS6M65ZNGJv",
        "colab_type": "code",
        "colab": {}
      },
      "source": [
        "## Parameters\n",
        "\n",
        "P1_0 = 0\n",
        "V1_0 = 20"
      ],
      "execution_count": 9,
      "outputs": []
    },
    {
      "cell_type": "code",
      "metadata": {
        "id": "UnBXrZGZNVs7",
        "colab_type": "code",
        "colab": {
          "base_uri": "https://localhost:8080/",
          "height": 302
        },
        "outputId": "56055bef-5258-495f-ec94-7d5b52e8ba0c"
      },
      "source": [
        "[t, V1, P1] = path_n1(P1_0, V1_0, P0_0, V0_0, nu, sigma_1, sigma_2, T, N)\n",
        "plt.plot(t,P1)\n",
        "plt.plot(t,P0)"
      ],
      "execution_count": 10,
      "outputs": [
        {
          "output_type": "execute_result",
          "data": {
            "text/plain": [
              "[<matplotlib.lines.Line2D at 0x7f614c34d518>]"
            ]
          },
          "metadata": {
            "tags": []
          },
          "execution_count": 10
        },
        {
          "output_type": "display_data",
          "data": {
            "image/png": "[encoded data removed]",
            "text/plain": [
              "<Figure size 432x288 with 1 Axes>"
            ]
          },
          "metadata": {
            "tags": [],
            "needs_background": "light"
          }
        }
      ]
    },
    {
      "cell_type": "code",
      "metadata": {
        "id": "PcKtaSyjNgZl",
        "colab_type": "code",
        "colab": {
          "base_uri": "https://localhost:8080/",
          "height": 302
        },
        "outputId": "a3b08780-d8ef-4f6e-9253-929a457142eb"
      },
      "source": [
        "plt.plot(t,V1)"
      ],
      "execution_count": 11,
      "outputs": [
        {
          "output_type": "execute_result",
          "data": {
            "text/plain": [
              "[<matplotlib.lines.Line2D at 0x7f614c2d3198>]"
            ]
          },
          "metadata": {
            "tags": []
          },
          "execution_count": 11
        },
        {
          "output_type": "display_data",
          "data": {
            "image/png": "[encoded data removed]",
            "text/plain": [
              "<Figure size 432x288 with 1 Axes>"
            ]
          },
          "metadata": {
            "tags": [],
            "needs_background": "light"
          }
        }
      ]
    },
    {
      "cell_type": "markdown",
      "metadata": {
        "id": "n47uTtZVOV34",
        "colab_type": "text"
      },
      "source": [
        ""
      ]
    },
    {
      "cell_type": "code",
      "metadata": {
        "id": "H3WVLycrOVLF",
        "colab_type": "code",
        "colab": {}
      },
      "source": [
        "def velocity_matrix(v, nu, sigma_1, sigma_2, T, N, M):\n",
        "    t = np.linspace(0, T, num = N+1)\n",
        "    h = T/N\n",
        "    V = np.zeros([M+1, N+1])\n",
        "    V[:,0] = v\n",
        "    for i in range(N):\n",
        "        V[0,i+1] = V[0,i] - varphi(T-i*h) * (V[0,i] - nu) * h + sigma_2 * np.sqrt(h) * np.random.normal()\n",
        "        for j in range(1, M+1):\n",
        "            V[j,i+1] = V[j,i] - varphi(T-i*h) * (V[j,i] - V[j-1,i]) * h + sigma_2 * np.sqrt(h) * np.random.normal()\n",
        "    return V"
      ],
      "execution_count": 12,
      "outputs": []
    },
    {
      "cell_type": "code",
      "metadata": {
        "id": "lCYwCxWFaApw",
        "colab_type": "code",
        "colab": {
          "base_uri": "https://localhost:8080/",
          "height": 401
        },
        "outputId": "c038ae0e-bbe3-4f45-b439-0721885ee804"
      },
      "source": [
        "## Parameters\n",
        "\n",
        "M = 10\n",
        "v = np.zeros(M+1, order = 'F') + 20\n",
        "\n",
        "V = velocity_matrix(v, nu, sigma_1, sigma_2, T, N, M)\n",
        "\n",
        "print(V)"
      ],
      "execution_count": 13,
      "outputs": [
        {
          "output_type": "stream",
          "text": [
            "[[20.         23.83064677 27.1324757  29.83231735 31.93820514 33.8886036\n",
            "  35.40878929 36.80566024 38.04609277 38.42529821 38.71335893]\n",
            " [20.         19.83979814 20.12738926 20.90771185 21.44363331 21.94929775\n",
            "  22.24822802 23.29172298 23.77817323 23.93970876 24.38330674]\n",
            " [20.         20.12567571 19.72672565 19.48154617 19.645273   19.97026843\n",
            "  19.53539058 19.77286104 19.64728803 19.41094783 19.71623353]\n",
            " [20.         20.06634008 19.7461794  19.29318598 19.39005758 19.00483766\n",
            "  18.69775823 18.62541387 18.72655398 18.52620329 18.23237554]\n",
            " [20.         19.8853496  19.74956716 19.47777874 19.34719441 19.47491851\n",
            "  19.48785222 19.48585431 19.61350752 19.45318047 19.30292382]\n",
            " [20.         19.83234708 19.43243665 19.39010974 19.45387469 19.43693222\n",
            "  19.19912873 19.06287312 19.47813879 19.10499527 18.72855031]\n",
            " [20.         19.72630296 19.81532448 19.70932338 19.42465313 19.65941774\n",
            "  19.840225   19.52288881 19.16965475 18.80523308 18.77136125]\n",
            " [20.         19.84894056 19.97166938 19.71758144 19.74611558 19.81317803\n",
            "  20.01484107 20.09217485 19.94976637 19.50026201 19.71552099]\n",
            " [20.         19.67328352 20.00738384 20.23485937 19.92131213 20.31680391\n",
            "  20.2317807  20.34403094 20.80086974 21.01655448 21.01022412]\n",
            " [20.         20.13405141 19.81985029 19.47882408 19.40970347 19.4305165\n",
            "  19.18820838 19.03602102 19.04321859 18.6778188  19.05139166]\n",
            " [20.         19.67931741 19.79595671 19.87051381 20.05269121 20.19476937\n",
            "  20.52996708 20.46412915 20.27136932 19.71908653 19.79178198]]\n"
          ],
          "name": "stdout"
        }
      ]
    },
    {
      "cell_type": "code",
      "metadata": {
        "id": "jLKqyeJNcxPC",
        "colab_type": "code",
        "colab": {}
      },
      "source": [
        ""
      ],
      "execution_count": 13,
      "outputs": []
    }
  ]
}