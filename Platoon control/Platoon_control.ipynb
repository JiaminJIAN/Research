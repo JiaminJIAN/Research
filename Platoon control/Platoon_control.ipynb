{
  "nbformat": 4,
  "nbformat_minor": 0,
  "metadata": {
    "colab": {
      "name": "Platoon control",
      "provenance": [],
      "collapsed_sections": [],
      "authorship_tag": "ABX9TyMi3JG0b9o0ViAenbYV93XH",
      "include_colab_link": true
    },
    "kernelspec": {
      "name": "python3",
      "display_name": "Python 3"
    }
  },
  "cells": [
    {
      "cell_type": "markdown",
      "metadata": {
        "id": "view-in-github",
        "colab_type": "text"
      },
      "source": [
        "<a href=\"https://colab.research.google.com/github/JiaminJIAN/Research/blob/master/Platoon%20control/Platoon_control.ipynb\" target=\"_parent\"><img src=\"https://colab.research.google.com/assets/colab-badge.svg\" alt=\"Open In Colab\"/></a>"
      ]
    },
    {
      "cell_type": "markdown",
      "metadata": {
        "id": "-DT7MpRCt0ae",
        "colab_type": "text"
      },
      "source": [
        "# **Platoon control**\n",
        "\n",
        "## **Case: N = 0**\n",
        "\n",
        "For the PDE\n",
        "\n",
        "\n",
        "$$\n",
        "\\begin{cases}\n",
        "\\frac{\\partial w}{\\partial t} + x_{0,2} \\frac{\\partial w}{\\partial x_{0,1}} - \\frac{1}{4} (\\frac{\\partial w}{\\partial x_{0,2}})^{2} = 0 \\\\\n",
        "w(T, x) = - x_{0, 1}^{2}\n",
        "\\end{cases}$$\n",
        "\n",
        "we assume that \n",
        "\n",
        "$$w(t,x) = \\phi_{1}(t) x_{0,1}^{2} + \\phi_{2}(t) x_{0,2}^{2} + \\phi_{3}(t) x_{0, 1} x_{0, 2} + \\phi_{4}(t) x_{0, 1} + \\phi_{5}(t) x_{0, 2} + \\phi_{6}(t). $$\n",
        "\n",
        "Then we can get the Ricatti system of ODEs as follows\n",
        "\n",
        "$$\n",
        "\\begin{cases}\n",
        "\\phi_{1}^{'}(t) = \\frac{1}{4} \\phi_{3}^{2}(t)  \\\\\n",
        "\\phi_{2}^{'}(t) = \\phi_{2}^{2}(t) - \\phi_{3}(t) \\\\\n",
        "\\phi_{3}^{'}(t) = - 2 \\phi_{1}(t) + \\phi_{2}(t) \\phi_{3}(t) \\\\\n",
        "\\phi_{4}^{'}(t) = \\frac{1}{2} \\phi_{3}(t) \\phi_{5}(t) \\\\ \n",
        "\\phi_{5}^{'}(t) = \\phi_{2}(t) \\phi_{5}(t) - \\phi_{4}(t) \\\\\n",
        "\\phi_{6}^{'}(t) = \\frac{1}{4} \\phi_{5}^{2}(t) \n",
        "\\end{cases}$$\n",
        "\n",
        "with the terminal condition\n",
        "\n",
        "$$\\phi_{1}(T) = -1, \\phi_{2}(T) = \\phi_{3}(T) = \\phi_{4}(T) = \\phi_{5}(T) = \\phi_{6}(T) = 0.$$\n",
        "\n",
        "By the Euler method, for $ i = 0, 1, 2, \\dots, N-1$ and $Nh = T$,\n",
        "\n",
        "$$\n",
        "\\begin{cases}\n",
        "\\phi_{1}(ih) = \\phi_{1}((i+1)h) - \\frac{h}{4} \\phi_{3}^{2}((i+1)h)  \\\\\n",
        "\\phi_{2}(ih) = \\phi_{2}((i+1)h) - h \\phi_{2}^{2}((i+1)h) + h \\phi_{3}((i+1)h) \\\\\n",
        "\\phi_{3}(ih) = \\phi_{3}((i+1)h) + 2h \\phi_{1}((i+1)h) - h \\phi_{2}((i+1)h) \\phi_{3}((i+1)h) \\\\\n",
        "\\phi_{4}(ih) = \\phi_{4}((i+1)h) - \\frac{h}{2} \\phi_{3}((i+1)h) \\phi_{5}((i+1)h) \\\\ \n",
        "\\phi_{5}(ih) = \\phi_{5}((i+1)h) - h \\phi_{2}((i+1)h) \\phi_{5}((i+1)h) + h \\phi_{4}((i+1)h) \\\\\n",
        "\\phi_{6}(ih) = \\phi_{6}((i+1)h) - \\frac{h}{4} \\phi_{5}^{2}((i+1)h) \n",
        "\\end{cases}$$\n",
        "\n"
      ]
    },
    {
      "cell_type": "code",
      "metadata": {
        "id": "Yw5kyTtq0gux",
        "colab_type": "code",
        "colab": {}
      },
      "source": [
        "import numpy as np\n",
        "import matplotlib.pyplot as plt\n",
        "from pylab import plt\n",
        "\n",
        "## parameters\n",
        "\n",
        "T = 1     ## terminal time\n",
        "h = 0.1  ## step size\n",
        "N = int(T/h)   \n",
        "\n",
        "## The data matrix and terminal value\n",
        "\n",
        "A = np.zeros((6, N+1))\n",
        "A[:, -1] = np.array([-1, 0, 0, 0, 0, 0])"
      ],
      "execution_count": 1,
      "outputs": []
    },
    {
      "cell_type": "code",
      "metadata": {
        "id": "x5rT_LK0BczL",
        "colab_type": "code",
        "colab": {
          "base_uri": "https://localhost:8080/",
          "height": 335
        },
        "outputId": "4e830d1a-18af-4d65-9044-596a76e66830"
      },
      "source": [
        "def numerical_solution(N, h):\n",
        "    A = np.zeros((6, N+1))\n",
        "    A[:, -1] = np.array([-1, 0, 0, 0, 0, 0])\n",
        "    for i in range(N):\n",
        "        A[0, N - 1 - i] = A[0, N - i] - h / 4 * A[2, N - i] ** 2\n",
        "        A[1, N - 1 - i] = A[1, N - i] - h * A[1, N - i] ** 2 + h * A[2, N - i]\n",
        "        A[2, N - 1 - i] = A[2, N - i] + 2 * h * A[0, N - i] - h * A[1, N - i] * A[2, N - i]\n",
        "        A[3, N - 1 - i] = A[3, N - i] - h / 2 * A[2, N - i] * A[4, N - i]\n",
        "        A[4, N - 1 - i] = A[4, N - i] - h * A[1, N - i] * A[4, N - i] + h * A[3, N - i]\n",
        "        A[5, N - 1 - i] = A[5, N - i] - h / 4 * A[4, N - i] ** 2\n",
        "\n",
        "    return A\n",
        "\n",
        "numerical_solution(N, h)"
      ],
      "execution_count": 2,
      "outputs": [
        {
          "output_type": "execute_result",
          "data": {
            "text/plain": [
              "array([[-1.34210382, -1.22990609, -1.15073923, -1.0949071 , -1.05616946,\n",
              "        -1.03025515, -1.01403002, -1.005     , -1.001     , -1.        ,\n",
              "        -1.        ],\n",
              "       [-1.10697223, -0.82677044, -0.61143379, -0.44241857, -0.30842673,\n",
              "        -0.20251336, -0.12050048, -0.06004   , -0.02      ,  0.        ,\n",
              "         0.        ],\n",
              "       [-2.53959858, -2.11846864, -1.77951522, -1.49441797, -1.24479139,\n",
              "        -1.01812203, -0.8056084 , -0.601     , -0.4       , -0.2       ,\n",
              "         0.        ],\n",
              "       [ 0.        ,  0.        ,  0.        ,  0.        ,  0.        ,\n",
              "         0.        ,  0.        ,  0.        ,  0.        ,  0.        ,\n",
              "         0.        ],\n",
              "       [ 0.        ,  0.        ,  0.        ,  0.        ,  0.        ,\n",
              "         0.        ,  0.        ,  0.        ,  0.        ,  0.        ,\n",
              "         0.        ],\n",
              "       [ 0.        ,  0.        ,  0.        ,  0.        ,  0.        ,\n",
              "         0.        ,  0.        ,  0.        ,  0.        ,  0.        ,\n",
              "         0.        ]])"
            ]
          },
          "metadata": {
            "tags": []
          },
          "execution_count": 2
        }
      ]
    },
    {
      "cell_type": "markdown",
      "metadata": {
        "id": "TkmV6fQS0hId",
        "colab_type": "text"
      },
      "source": [
        "## **Case: N = 1**\n",
        "\n",
        "For the PDE\n",
        "\n",
        "\n",
        "$$\n",
        "\\begin{cases}\n",
        "\\frac{\\partial w}{\\partial t} + x_{1,2} \\frac{\\partial w}{\\partial x_{1,1}} - \\frac{1}{4} (\\frac{\\partial w}{\\partial x_{1,2}})^{2} + (x_{1,1} - x_{0,1}^{*} - d)^{2} + (x_{1,2} - x_{0,2}^{*})^{2} = 0 \\\\\n",
        "w(T, x) = - x_{1, 1}^{2}\n",
        "\\end{cases}$$\n",
        "\n",
        "we assume that \n",
        "\n",
        "$$w(t,x) = \\phi_{1}(t) x_{1,1}^{2} + \\phi_{2}(t) x_{1,2}^{2} + \\phi_{3}(t) x_{1, 1} x_{1, 2} + \\phi_{4}(t) x_{1, 1} + \\phi_{5}(t) x_{1, 2} + \\phi_{6}(t). $$\n",
        "\n",
        "Then we can get the Ricatti system of ODEs as follows\n",
        "\n",
        "$$\n",
        "\\begin{cases}\n",
        "\\phi_{1}^{'}(t) = \\frac{1}{4} \\phi_{3}^{2}(t) - 1  \\\\\n",
        "\\phi_{2}^{'}(t) = \\phi_{2}^{2}(t) - \\phi_{3}(t) - 1 \\\\\n",
        "\\phi_{3}^{'}(t) = - 2 \\phi_{1}(t) + \\phi_{2}(t) \\phi_{3}(t) \\\\\n",
        "\\phi_{4}^{'}(t) = \\frac{1}{2} \\phi_{3}(t) \\phi_{5}(t) + 2 d + 2 x_{0, 1}^{*} \\\\ \n",
        "\\phi_{5}^{'}(t) = \\phi_{2}(t) \\phi_{5}(t) - \\phi_{4}(t) + 2 x_{0, 2}^{*}  \\\\\n",
        "\\phi_{6}^{'}(t) = \\frac{1}{4} \\phi_{5}^{2}(t) - (x_{0,1}^{*} + d)^{2} - (x_{0, 2}^{*})^{2}\n",
        "\\end{cases}$$\n",
        "\n",
        "with the terminal condition\n",
        "\n",
        "$$\\phi_{1}(T) = -1, \\phi_{2}(T) = \\phi_{3}(T) = \\phi_{4}(T) = \\phi_{5}(T) = \\phi_{6}(T) = 0.$$\n",
        "\n",
        "By the Euler method, for $ i = 0, 1, 2, \\dots, N-1$ and $Nh = T$,\n",
        "\n",
        "$$\n",
        "\\begin{cases}\n",
        "\\phi_{1}(ih) = \\phi_{1}((i+1)h) - \\frac{h}{4} \\phi_{3}^{2}((i+1)h) + h \\\\\n",
        "\\phi_{2}(ih) = \\phi_{2}((i+1)h) - h \\phi_{2}^{2}((i+1)h) + h \\phi_{3}((i+1)h) + h \\\\\n",
        "\\phi_{3}(ih) = \\phi_{3}((i+1)h) + 2h \\phi_{1}((i+1)h) - h \\phi_{2}((i+1)h) \\phi_{3}((i+1)h) \\\\\n",
        "\\phi_{4}(ih) = \\phi_{4}((i+1)h) - \\frac{h}{2} \\phi_{3}((i+1)h) \\phi_{5}((i+1)h)  - (2d + 2x_{0,1}^{*}) h \\\\ \n",
        "\\phi_{5}(ih) = \\phi_{5}((i+1)h) - h \\phi_{2}((i+1)h) \\phi_{5}((i+1)h) + h \\phi_{4}((i+1)h) - 2 h x_{0,2}^{*} \\\\\n",
        "\\phi_{6}(ih) = \\phi_{6}((i+1)h) - \\frac{h}{4} \\phi_{5}^{2}((i+1)h) + ((x_{0,1}^{*} + d)^{2} + (x_{0, 2}^{*})^{2}) h\n",
        "\\end{cases}$$\n",
        "\n"
      ]
    },
    {
      "cell_type": "code",
      "metadata": {
        "id": "6GwUomQb3HvZ",
        "colab_type": "code",
        "colab": {}
      },
      "source": [
        ""
      ],
      "execution_count": 2,
      "outputs": []
    }
  ]
}